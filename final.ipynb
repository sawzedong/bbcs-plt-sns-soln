{
 "cells": [
  {
   "cell_type": "markdown",
   "metadata": {},
   "source": [
    "## ▷▷▷▷▷ 💡 Introduction 💡 ◁◁◁◁◁\n",
    "\n",
    "1. Matplotlib is a comprehensive library for creating static, animated, and interactive visualizations in Python.\n",
    "\n",
    "2. Pandas is a Python library used for working with data sets. It has functions for analyzing, cleaning, exploring, and manipulating data."
   ]
  },
  {
   "cell_type": "code",
   "execution_count": null,
   "metadata": {},
   "outputs": [],
   "source": [
    "import matplotlib.pyplot as plt\n",
    "import pandas as pd"
   ]
  },
  {
   "cell_type": "markdown",
   "metadata": {},
   "source": [
    "## ▷▷▷▷▷ 💡 Recap 💡 ◁◁◁◁◁\n",
    "\n",
    "In Data Visulization, pandas and numpy are commonly used to load and understand the data we are working with"
   ]
  },
  {
   "cell_type": "code",
   "execution_count": null,
   "metadata": {},
   "outputs": [],
   "source": [
    "media_df = pd.read_csv('./social_media.csv')"
   ]
  },
  {
   "cell_type": "code",
   "execution_count": null,
   "metadata": {},
   "outputs": [],
   "source": [
    "media_df.head()"
   ]
  },
  {
   "cell_type": "code",
   "execution_count": null,
   "metadata": {},
   "outputs": [],
   "source": [
    "media_df.tail()"
   ]
  },
  {
   "cell_type": "code",
   "execution_count": null,
   "metadata": {},
   "outputs": [],
   "source": [
    "media_df.shape"
   ]
  },
  {
   "cell_type": "code",
   "execution_count": null,
   "metadata": {},
   "outputs": [],
   "source": [
    "media_df.columns"
   ]
  },
  {
   "cell_type": "code",
   "execution_count": null,
   "metadata": {},
   "outputs": [],
   "source": [
    "# Converting the names of all the columns to lowercase\n",
    "media_df.columns = [col.lower() for col in media_df]\n",
    "media_df.columns"
   ]
  },
  {
   "cell_type": "code",
   "execution_count": null,
   "metadata": {},
   "outputs": [],
   "source": [
    "# Extracting data for facebook, twitter, instagram, youtube\n",
    "pops_col = media_df[['facebook', 'twitter', 'instagram', 'youtube']]\n",
    "pops_col.head()"
   ]
  },
  {
   "cell_type": "code",
   "execution_count": null,
   "metadata": {},
   "outputs": [],
   "source": [
    "# Slicing by rows\n",
    "pops_subset = media_df.iloc[1: 3]\n",
    "pops_subset.head()"
   ]
  },
  {
   "cell_type": "markdown",
   "metadata": {},
   "source": [
    "## ▷▷▷▷▷ 🆕 Matplotlib 🆕 ◁◁◁◁◁\n",
    "\n",
    "Now that we have a better understanding of our data, we can explore ways we can represent these data on a graph"
   ]
  },
  {
   "cell_type": "markdown",
   "metadata": {},
   "source": [
    "### [🌟] C01: Line Graphs"
   ]
  },
  {
   "cell_type": "markdown",
   "metadata": {},
   "source": [
    "*Your First Plot*"
   ]
  },
  {
   "cell_type": "code",
   "execution_count": null,
   "metadata": {},
   "outputs": [],
   "source": [
    "# Plotting the change in 'facebook' user data across the years\n",
    "plt.plot(media_df['date'], media_df['facebook'])\n",
    "\n",
    "plt.show()"
   ]
  },
  {
   "cell_type": "markdown",
   "metadata": {},
   "source": [
    "*Multi-line*"
   ]
  },
  {
   "cell_type": "code",
   "execution_count": null,
   "metadata": {},
   "outputs": [],
   "source": [
    "# Method 1\n",
    "plt.plot(media_df['date'], media_df['facebook'], media_df['date'], media_df['twitter'], media_df['date'], media_df['youtube'])\n",
    "\n",
    "plt.show()"
   ]
  },
  {
   "cell_type": "code",
   "execution_count": null,
   "metadata": {},
   "outputs": [],
   "source": [
    "# Method 2\n",
    "plt.plot(media_df['date'], media_df['facebook'], label=\"facebook\")\n",
    "plt.plot(media_df['date'], media_df['twitter'], label=\"twitter\")\n",
    "plt.plot(media_df['date'], media_df['youtube'], label=\"youtube\")\n",
    "\n",
    "plt.show()"
   ]
  },
  {
   "cell_type": "markdown",
   "metadata": {},
   "source": [
    "*Title, X-label, Y-label*"
   ]
  },
  {
   "cell_type": "code",
   "execution_count": null,
   "metadata": {},
   "outputs": [],
   "source": [
    "# Setting title, xlabel and y-label\n",
    "plt.plot(media_df['date'], media_df['facebook'])\n",
    "\n",
    "# Title, X-label, Y-label\n",
    "plt.title(\"Facebook Popularity\")\n",
    "plt.xlabel(\"Year 2009-2023\")\n",
    "plt.ylabel(\"Market Share\")\n",
    "\n",
    "plt.show()"
   ]
  },
  {
   "cell_type": "markdown",
   "metadata": {},
   "source": [
    "*Xlim, Ylim, Xticks, Yticks*"
   ]
  },
  {
   "cell_type": "code",
   "execution_count": null,
   "metadata": {},
   "outputs": [],
   "source": [
    "# Adjusting axis scale\n",
    "# Setting x, y limit\n",
    "plt.plot(media_df['date'], media_df['facebook'])\n",
    "plt.ylim = [0, 120] # Why is nothing happening 🤔 ?\n",
    "\n",
    "# Title, X-label, Y-label\n",
    "plt.title(\"Instagram Popularity\")\n",
    "plt.xlabel(\"Year 2009-2023\")\n",
    "plt.ylabel(\"Market Share\")\n",
    "\n",
    "plt.show()"
   ]
  },
  {
   "cell_type": "code",
   "execution_count": null,
   "metadata": {},
   "outputs": [],
   "source": [
    "# Setting the values on the x, y-axis\n",
    "plt.plot(media_df['date'], media_df['facebook'])\n",
    "plt.yticks(range(0, 121, 20))\n",
    "\n",
    "plt.show()"
   ]
  },
  {
   "cell_type": "markdown",
   "metadata": {},
   "source": [
    "*Annotations*"
   ]
  },
  {
   "cell_type": "code",
   "execution_count": null,
   "metadata": {},
   "outputs": [],
   "source": [
    "# Annotating Text\n",
    "plt.plot(media_df['date'], media_df['facebook'])\n",
    "plt.yticks(range(0, 121, 20))\n",
    "\n",
    "# Annotation\n",
    "plt.annotate('peak', xy=(80, 88), xytext=(100, 110), arrowprops=dict(facecolor='black', shrink=0.10))\n",
    "\n",
    "# Title, X-label, Y-label\n",
    "plt.title(\"Instagram Popularity\")\n",
    "plt.xlabel(\"Year 2009-2023\")\n",
    "plt.ylabel(\"Market Share\")\n",
    "\n",
    "plt.show()"
   ]
  },
  {
   "cell_type": "markdown",
   "metadata": {},
   "source": [
    "*Legend*"
   ]
  },
  {
   "cell_type": "code",
   "execution_count": null,
   "metadata": {},
   "outputs": [],
   "source": [
    "# Notice how the plot quickly gets very confusing\n",
    "# Adding Legends\n",
    "\n",
    "plt.plot(media_df['date'], media_df['facebook'], label=\"facebook\")\n",
    "plt.plot(media_df['date'], media_df['twitter'], label=\"twitter\")\n",
    "plt.plot(media_df['date'], media_df['youtube'], label=\"youtube\")\n",
    "plt.yticks(range(0, 121, 20))\n",
    "\n",
    "# Legends\n",
    "plt.legend(bbox_to_anchor=(1.30, 1))\n",
    "\n",
    "plt.show()"
   ]
  },
  {
   "cell_type": "markdown",
   "metadata": {},
   "source": [
    "### [🌟] [🌟] [❗] Challenge: Putting everything together (8min)\n",
    "\n",
    "Your Graph should have the following:\n",
    "1. Multi-line (Facebook, Twitter, YouTube)\n",
    "\n",
    "2. A suitable y-axis scale\n",
    "\n",
    "3. Legend\n",
    "\n",
    "4. Annotation of highest point\n",
    "\n",
    "5. Title\n",
    "\n",
    "6. X-label\n",
    "\n",
    "7. Y-label"
   ]
  },
  {
   "cell_type": "code",
   "execution_count": null,
   "metadata": {},
   "outputs": [],
   "source": [
    "# Putting it all together\n",
    "\n",
    "plt.plot(media_df['date'], media_df['facebook'], label=\"facebook\")\n",
    "plt.plot(media_df['date'], media_df['twitter'], label=\"twitter\")\n",
    "plt.plot(media_df['date'], media_df['youtube'], label=\"youtube\")\n",
    "plt.yticks(range(0, 121, 20))\n",
    "\n",
    "# Legends\n",
    "plt.legend(bbox_to_anchor=(1.30, 1)) \n",
    "\n",
    "# Annotation\n",
    "plt.annotate('peak', xy=(80, 88), xytext=(100, 110), arrowprops=dict(facecolor='black', shrink=0.10))\n",
    "\n",
    "# Title, X-label, Y-label\n",
    "plt.title(\"Instagram Popularity\")\n",
    "plt.xlabel(\"Year 2009-2023\")\n",
    "plt.ylabel(\"Market Share\")\n",
    "\n",
    "plt.show()"
   ]
  },
  {
   "cell_type": "markdown",
   "metadata": {},
   "source": [
    "### [🌟] [🌟] C02: Pie Charts"
   ]
  },
  {
   "cell_type": "code",
   "execution_count": null,
   "metadata": {},
   "outputs": [],
   "source": [
    "# Extracting data of all social media in a specific month\n",
    "x = media_df.columns\n",
    "y = media_df.iloc[0].tolist()\n",
    "print(x)\n",
    "print(y)"
   ]
  },
  {
   "cell_type": "code",
   "execution_count": null,
   "metadata": {},
   "outputs": [],
   "source": [
    "# Representing the market share as a pie chart\n",
    "fig = plt.figure()\n",
    "\n",
    "# Set Background Colour\n",
    "fig.set_facecolor('white')\n",
    "\n",
    "# Likewise, pie charts can be labelled\n",
    "plt.pie(y[1:], labels=x[1:])\n",
    "plt.legend(bbox_to_anchor=(1.5, 1.1))\n",
    "plt.title(\"Market Share of all social media\")\n",
    "\n",
    "plt.show()"
   ]
  },
  {
   "cell_type": "markdown",
   "metadata": {},
   "source": [
    "### [🌟] [🌟] [🌟] [❗] Challenge: Can you make the pie chart look less cluttered?\n",
    "\n",
    "-   Hint: Group the social media platforms with smaller market share"
   ]
  },
  {
   "cell_type": "code",
   "execution_count": null,
   "metadata": {},
   "outputs": [],
   "source": [
    "# Solution Part 1\n",
    "# Calculating total percentage\n",
    "total = 0\n",
    "for value in y[1:]: total += value\n",
    "# print(total) # Check whether market share adds up to 100%\n",
    "\n",
    "sign_players_x = []\n",
    "sign_players_y = []\n",
    "others_x = []\n",
    "others_y = 0"
   ]
  },
  {
   "cell_type": "code",
   "execution_count": null,
   "metadata": {},
   "outputs": [],
   "source": [
    "# Solution Part 2\n",
    "# Sieving through market share of different social media platforms\n",
    "for (i, value) in enumerate(y[1:]):\n",
    "    if value/total*100 > 5:     \n",
    "        sign_players_x.append(x[i + 1])\n",
    "        sign_players_y.append(value)\n",
    "    else:\n",
    "        others_x.append(x[i + 1])\n",
    "        others_y += value\n",
    "\n",
    "print(sign_players_x, sign_players_y)\n",
    "print(others_x, others_y)"
   ]
  },
  {
   "cell_type": "code",
   "execution_count": null,
   "metadata": {},
   "outputs": [],
   "source": [
    "# Solution Part 3\n",
    "# Concatenate the lists\n",
    "new_x = sign_players_x + [\"others\"]\n",
    "new_y = sign_players_y + [others_y]\n",
    "\n",
    "print(new_x)\n",
    "print(new_y)"
   ]
  },
  {
   "cell_type": "code",
   "execution_count": null,
   "metadata": {},
   "outputs": [],
   "source": [
    "# Solution Results\n",
    "fig = plt.figure()\n",
    "fig.set_facecolor(\"white\")\n",
    "\n",
    "plt.pie(new_y, labels=new_x)\n",
    "plt.legend(bbox_to_anchor=[1.2, 0.7])\n",
    "plt.title(\"Market Share of Significant Social Media Platform\")\n",
    "\n",
    "plt.show()"
   ]
  },
  {
   "cell_type": "markdown",
   "metadata": {},
   "source": [
    "### [🌟] C03: Plot Arrangement"
   ]
  },
  {
   "cell_type": "code",
   "execution_count": null,
   "metadata": {},
   "outputs": [],
   "source": [
    "# Line Graph\n",
    "plt.figure(1)\n",
    "plt.subplot(212)\n",
    "plt.plot(media_df['date'], media_df['facebook'])\n",
    "\n",
    "# Pie Chart\n",
    "fig = plt.figure(2)\n",
    "fig.set_facecolor(\"white\")\n",
    "\n",
    "plt.pie(new_y, labels=new_x)\n",
    "plt.legend(bbox_to_anchor=[1.2, 0.7])\n",
    "plt.title(\"Market Share of Significant Social Media Platform\")\n",
    "\n",
    "plt.show()"
   ]
  },
  {
   "cell_type": "markdown",
   "metadata": {},
   "source": [
    "## ▷▷▷▷▷ 🆕 Seaborn 🆕 ◁◁◁◁◁\n",
    "\n",
    "Seaborn is an extension of Matplotlib that allows us to work with data more easily. It can be used with data instantly out-of-the-box, making it even easier to do data analysis."
   ]
  },
  {
   "cell_type": "code",
   "execution_count": null,
   "metadata": {},
   "outputs": [],
   "source": [
    "import seaborn as sns\n",
    "\n",
    "# Fun Fact: The Seaborn library was apparently named after a character named Samuel Norman Seaborn from the television show \"The West Wing\" \n",
    "# Thus, the standard alias is the character's initials (\"sns\")."
   ]
  },
  {
   "cell_type": "markdown",
   "metadata": {},
   "source": [
    "## ▷▷▷▷▷ 📈 More Data 📈 ◁◁◁◁◁\n",
    "\n",
    "We will be experimenting with 3 different datasets to explore the powers of Seaborn."
   ]
  },
  {
   "cell_type": "markdown",
   "metadata": {},
   "source": [
    "### Dataset 1: Social Media\n",
    "\n",
    "This is the same one as used in Matplotlib section!  \n",
    "\n",
    "We modify the data to set the date as the index and to only keep certain columns to avoid clutter."
   ]
  },
  {
   "cell_type": "code",
   "execution_count": null,
   "metadata": {},
   "outputs": [],
   "source": [
    "# convert the names of all the columns to lowercase\n",
    "media_df.columns = [col.lower() for col in media_df]\n",
    "# set the date column as the index\n",
    "media_df = media_df.set_index(\"date\") \n",
    "print(media_df.columns)\n",
    "\n",
    "# only keep the columns shown below to avoid clutter in the graph\n",
    "preserve_columns = [\"facebook\", \"twitter\", \"stumbleupon\", \"myspace\", \"digg\", \"reddit\", \"other\"]\n",
    "for index, row in media_df.iterrows():\n",
    "    other = row[\"other\"]\n",
    "    for column in media_df.columns:\n",
    "        if column in preserve_columns or column == \"other\":\n",
    "            continue\n",
    "        # for all other social media platforms, add to \"other\"\n",
    "        other += row[column] \n",
    "        row[column] = 0\n",
    "    row[\"other\"] = other\n",
    "# update and drop the columns no longer needed\n",
    "media_df = media_df[preserve_columns]"
   ]
  },
  {
   "cell_type": "code",
   "execution_count": null,
   "metadata": {},
   "outputs": [],
   "source": [
    "media_df.head()"
   ]
  },
  {
   "cell_type": "markdown",
   "metadata": {},
   "source": [
    "### Dataset 2: Social Media (Modified)\n",
    "\n",
    "This is the same data as above! Run this code and look for the difference in how the data is structured.  \n",
    "\n",
    "Dataset 2 is a bit more \"messy\", with all the different dates and platforms combined into 1 column instead of multiple columns."
   ]
  },
  {
   "cell_type": "code",
   "execution_count": null,
   "metadata": {},
   "outputs": [],
   "source": [
    "media_messy_df = pd.read_csv('./social_media_messy.csv')\n",
    "media_messy_df = media_messy_df.set_index(\"date\") \n",
    "print(media_messy_df.columns)"
   ]
  },
  {
   "cell_type": "code",
   "execution_count": null,
   "metadata": {},
   "outputs": [],
   "source": [
    "media_messy_df.head()"
   ]
  },
  {
   "cell_type": "markdown",
   "metadata": {},
   "source": [
    "### Dataset 3: Students Performance Data (Modified)\n",
    "\n",
    "This is the same data as above! Run this code and look for the difference in how the data is structured.  \n",
    "\n",
    "This dataset records students data and related student information."
   ]
  },
  {
   "cell_type": "code",
   "execution_count": null,
   "metadata": {},
   "outputs": [],
   "source": [
    "students_df = pd.read_csv('./students_performance.csv')  "
   ]
  },
  {
   "cell_type": "code",
   "execution_count": null,
   "metadata": {},
   "outputs": [],
   "source": [
    "students_df.head()"
   ]
  },
  {
   "cell_type": "markdown",
   "metadata": {},
   "source": [
    "## ▷▷▷▷▷ 🌊 Using Seaborn 🌊 ◁◁◁◁◁"
   ]
  },
  {
   "cell_type": "code",
   "execution_count": null,
   "metadata": {},
   "outputs": [],
   "source": [
    "sns.set_theme(style=\"whitegrid\", palette=\"tab10\") # sets a colour scheme"
   ]
  },
  {
   "cell_type": "markdown",
   "metadata": {},
   "source": [
    "### [🌟] C01: Line Graphs\n",
    "\n",
    "We investigate how the usage of social media platforms changes over time."
   ]
  },
  {
   "cell_type": "code",
   "execution_count": null,
   "metadata": {},
   "outputs": [],
   "source": [
    "# From Dataset 1\n",
    "graph=sns.lineplot(data=media_df, linewidth=2.5, dashes=False) # plots all the data in a line plot based on platforms"
   ]
  },
  {
   "cell_type": "code",
   "execution_count": null,
   "metadata": {},
   "outputs": [],
   "source": [
    "# From Dataset 1\n",
    "graph=sns.lineplot(data=media_df, linewidth=2.5, dashes=False)\n",
    "\n",
    "# Notice how all the dates are combined and too messy to read?\n",
    "# We do this to only label dates that are in the month of January (e.g. 2020-01)\n",
    "# We also label it in the form '20, '21\n",
    "xticks, xticklabels = [], []\n",
    "for idx, time in enumerate(media_df.index):\n",
    "    if time[-3:] == \"-01\":\n",
    "        xticks.append(idx) \n",
    "        xticklabels.append(\"'\"+time[2:-3])\n",
    "\n",
    "graph.set_xticks(xticks)\n",
    "graph.set_xticklabels(xticklabels)\n",
    "\n",
    "# set x limit to avoid excessive white space\n",
    "graph.set_xlim(0, len(media_df.index)-1)"
   ]
  },
  {
   "cell_type": "code",
   "execution_count": null,
   "metadata": {},
   "outputs": [],
   "source": [
    "# From Dataset 2\n",
    "# Note the extra parameters to give seaborn more info about what we're plotting.\n",
    "graph=sns.lineplot(data=media_messy_df, x=\"date\", y=\"value\", hue=\"platform\", linewidth=2.5)\n",
    "\n",
    "graph.set_xticks(xticks)\n",
    "graph.set_xticklabels(xticklabels)\n",
    "graph.set_xlim(0, len(media_df.index)-2)"
   ]
  },
  {
   "cell_type": "markdown",
   "metadata": {},
   "source": [
    "### [🌟] C02: Distribution Plot\n",
    "\n",
    "We investigate how certain data or attributes may affect students' math, reading and writing score. "
   ]
  },
  {
   "cell_type": "code",
   "execution_count": null,
   "metadata": {},
   "outputs": [],
   "source": [
    "# Distribution Plot (Count)\n",
    "sns.displot(\n",
    "    data=students_df, x=\"math score\", col=\"ethnicity\", row=\"gender\",\n",
    "    binwidth=5, facet_kws=dict(margin_titles=True)\n",
    ")"
   ]
  },
  {
   "cell_type": "markdown",
   "metadata": {},
   "source": [
    "### [🌟] [🌟] Challenge: Can you use a percetange instead of count to make the graphs easier to compare?\n",
    "\n",
    "-   The different totals in each graph makes it hard to draw a comparison."
   ]
  },
  {
   "cell_type": "code",
   "execution_count": null,
   "metadata": {},
   "outputs": [],
   "source": [
    "# Challenge 5: Solution\n",
    "sns.displot(\n",
    "    data=students_df, x=\"math score\", col=\"ethnicity\", row=\"gender\",\n",
    "    binwidth=5, facet_kws=dict(margin_titles=True), stat='percent', common_norm=False\n",
    ")"
   ]
  },
  {
   "cell_type": "markdown",
   "metadata": {},
   "source": [
    "### [🌟] C03: Relationship Plot\n",
    "\n",
    "We investigate how one score can be correlated to another score, and other attributes. "
   ]
  },
  {
   "cell_type": "code",
   "execution_count": null,
   "metadata": {},
   "outputs": [],
   "source": [
    "# Relationship Plot (Simple)\n",
    "sns.relplot(data=students_df, x=\"reading score\", y=\"math score\", alpha=0.5)"
   ]
  },
  {
   "cell_type": "code",
   "execution_count": null,
   "metadata": {},
   "outputs": [],
   "source": [
    "# Relationship Plot (Colour, Categorical)\n",
    "sns.relplot(data=students_df, x=\"reading score\", y=\"math score\", hue=\"gender\", alpha=0.5)"
   ]
  },
  {
   "cell_type": "code",
   "execution_count": null,
   "metadata": {},
   "outputs": [],
   "source": [
    "# Relationship Plot (Colour, Numerical)\n",
    "sns.relplot(data=students_df, x=\"reading score\", y=\"math score\", hue=\"writing score\", alpha=0.5)"
   ]
  },
  {
   "cell_type": "code",
   "execution_count": null,
   "metadata": {},
   "outputs": [],
   "source": [
    "# Relationship Plot (Size)\n",
    "sns.relplot(data=students_df, x=\"reading score\", y=\"math score\", size=\"writing score\", sizes=(2, 100), alpha=0.5)"
   ]
  },
  {
   "cell_type": "markdown",
   "metadata": {},
   "source": [
    "### [🌟] C04: Heatmap Plot\n",
    "\n",
    "The correlations between scores may be a bit hard to observe as seen above. We can instead use a heatmap to visualise this more easily."
   ]
  },
  {
   "cell_type": "code",
   "execution_count": null,
   "metadata": {},
   "outputs": [],
   "source": [
    "# we investigate how WRITING score is predicted by reading/math score\n",
    "students_pivoted = students_df.pivot_table(index=\"math score\", columns=\"reading score\", values=\"writing score\", aggfunc=\"mean\", fill_value=None) \n",
    "students_pivoted.head()"
   ]
  },
  {
   "cell_type": "code",
   "execution_count": null,
   "metadata": {},
   "outputs": [],
   "source": [
    "# Set None values to white, all other values correspond to a colour on the spectrum.\n",
    "cmap = sns.color_palette(\"viridis_r\", as_cmap=True)\n",
    "cmap.set_bad(\"white\")\n",
    "\n",
    "sns.heatmap(data=students_pivoted, annot=False, linewidths=.5, cmap=cmap, cbar_kws={'label': 'writing score'})"
   ]
  }
 ],
 "metadata": {
  "kernelspec": {
   "display_name": "Python 3",
   "language": "python",
   "name": "python3"
  },
  "language_info": {
   "codemirror_mode": {
    "name": "ipython",
    "version": 3
   },
   "file_extension": ".py",
   "mimetype": "text/x-python",
   "name": "python",
   "nbconvert_exporter": "python",
   "pygments_lexer": "ipython3",
   "version": "3.11.3"
  }
 },
 "nbformat": 4,
 "nbformat_minor": 2
}
